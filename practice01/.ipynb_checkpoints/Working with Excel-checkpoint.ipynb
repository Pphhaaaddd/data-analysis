{
 "cells": [
  {
   "cell_type": "markdown",
   "metadata": {},
   "source": [
    "### Importing libraries"
   ]
  },
  {
   "cell_type": "code",
   "execution_count": 51,
   "metadata": {},
   "outputs": [],
   "source": [
    "import numpy as np\n",
    "import pandas as pd"
   ]
  },
  {
   "cell_type": "markdown",
   "metadata": {},
   "source": [
    "### DataFrames\n",
    "Getting all sheets separatly"
   ]
  },
  {
   "cell_type": "code",
   "execution_count": 52,
   "metadata": {},
   "outputs": [],
   "source": [
    "xls = pd.ExcelFile('May17.xlsx')\n",
    "df1 = xls.parse(0)\n",
    "df2 = xls.parse(1)\n",
    "df3 = xls.parse(2)"
   ]
  },
  {
   "cell_type": "code",
   "execution_count": 53,
   "metadata": {},
   "outputs": [
    {
     "data": {
      "text/plain": [
       "<bound method NDFrame.head of               Unnamed: 0                     kaber     Unnamed: 2  \\\n",
       "0                   DATE                       NaN             DR   \n",
       "1                    NaN               Description  Received cash   \n",
       "2    2017-05-01 00:00:00           opening balance            400   \n",
       "3    2017-05-01 00:00:00  cash withdrawl/Noor bank           4000   \n",
       "4    2017-05-01 00:00:00           cash chq#106139          60000   \n",
       "5    2017-05-01 00:00:00                       NaN            NaN   \n",
       "6    2017-05-01 00:00:00                       NaN            NaN   \n",
       "7    2017-05-01 00:00:00                       NaN            NaN   \n",
       "8    2017-05-01 00:00:00                       NaN            NaN   \n",
       "9    2017-05-02 00:00:00  cash withdrawl/Noor bank           9000   \n",
       "10   2017-05-02 00:00:00  cash withdrawl/Noor bank          10000   \n",
       "11   2017-05-02 00:00:00             ATM/Noor Bank           5000   \n",
       "12   2017-05-02 00:00:00                       NaN            NaN   \n",
       "13   2017-05-02 00:00:00                       NaN            NaN   \n",
       "14   2017-05-03 00:00:00  cash withdrawl/Noor bank           5000   \n",
       "15   2017-05-04 00:00:00          withdrawl 100145          16100   \n",
       "16   2017-05-04 00:00:00                       NaN            NaN   \n",
       "17   2017-05-06 00:00:00          withdrawl 100153          20000   \n",
       "18   2017-05-06 00:00:00                       NaN            NaN   \n",
       "19   2017-05-06 00:00:00                       NaN            NaN   \n",
       "20   2017-05-06 00:00:00          withdrawl 100154          16000   \n",
       "21   2017-05-07 00:00:00                       NaN            NaN   \n",
       "22   2017-05-07 00:00:00          withdrawl 100156           7500   \n",
       "23   2017-05-08 00:00:00          withdrawl 100117           9000   \n",
       "24   2017-05-09 00:00:00          withdrawl 100160          18500   \n",
       "25   2017-05-09 00:00:00             ATM/Noor Bank           5000   \n",
       "26   2017-05-09 00:00:00                       NaN            NaN   \n",
       "27   2017-05-09 00:00:00                       NaN            NaN   \n",
       "28   2017-05-09 00:00:00                       NaN            NaN   \n",
       "29   2017-05-11 00:00:00          withdrawl 100171          16000   \n",
       "..                   ...                       ...            ...   \n",
       "75   2017-05-31 00:00:00                       NaN            NaN   \n",
       "76                   NaN                       NaN            NaN   \n",
       "77   2017-06-03 00:00:00  cash withdrawl/Noor bank            500   \n",
       "78                   NaN  cash withdrawl/Noor bank          10000   \n",
       "79   2017-06-06 00:00:00  cash withdrawl/Noor bank           2000   \n",
       "80                   NaN                       NaN            NaN   \n",
       "81   2017-06-08 00:00:00  cash withdrawl/Noor bank          10000   \n",
       "82                   NaN                       NaN            NaN   \n",
       "83                   NaN                       NaN            NaN   \n",
       "84   2017-06-09 00:00:00  cash withdrawl/Noor bank           3500   \n",
       "85                   NaN                       NaN            NaN   \n",
       "86                   NaN                       NaN            NaN   \n",
       "87                   NaN                       NaN            NaN   \n",
       "88                   NaN                       NaN            NaN   \n",
       "89   2017-06-10 00:00:00  cash withdrawl/Noor bank           2500   \n",
       "90                   NaN                       NaN            NaN   \n",
       "91   2017-06-11 00:00:00  cash withdrawl/Noor bank          10200   \n",
       "92                   NaN                       NaN            NaN   \n",
       "93   2017-06-11 00:00:00  cash withdrawl/Noor bank           4000   \n",
       "94                   NaN                       NaN            NaN   \n",
       "95   2017-06-12 00:00:00            cash withdrawl           1500   \n",
       "96   2017-06-13 00:00:00            cash withdrawl           8500   \n",
       "97   2017-06-14 00:00:00            cash withdrawl          12500   \n",
       "98                   NaN                       NaN            NaN   \n",
       "99   2017-06-14 00:00:00            cash withdrawl           1800   \n",
       "100  2017-06-14 00:00:00                       NaN            NaN   \n",
       "101  2017-06-14 00:00:00          100098 withdrawl          31736   \n",
       "102  2017-06-15 00:00:00                       NaN            NaN   \n",
       "103  2017-06-15 00:00:00                       NaN            NaN   \n",
       "104  2017-06-15 00:00:00                       NaN            NaN   \n",
       "\n",
       "               PETTY CASH RECORD Unnamed: 4 Unnamed: 5  Unnamed: 6  \n",
       "0                            NaN         CR        NaN         NaN  \n",
       "1                    description  Paid cash    Balance         NaN  \n",
       "2                            NaN        NaN        400         NaN  \n",
       "3                     Paid Majid       3000       1400         NaN  \n",
       "4                      Paid Utam        644      63356         NaN  \n",
       "5                      Paid Utam      30000      30000         NaN  \n",
       "6                       Ply wood       1520      -1520         NaN  \n",
       "7      Al saray building/suplier      10000     -10000         NaN  \n",
       "8    shine sus co/sub contracter      30000     -30000         NaN  \n",
       "9                      Paid Utam      15480      -6480         NaN  \n",
       "10                  Deposit ADIB       9000      10000         NaN  \n",
       "11                   Labour camp       6000       9000         NaN  \n",
       "12                 sajjad salary       2000       3000         NaN  \n",
       "13                      car loan       1100      -1100         NaN  \n",
       "14                    Paid Majid       4500        500         NaN  \n",
       "15                  Deposit ADIB       5000      16100         NaN  \n",
       "16                     Paid Utam      14500       1600         NaN  \n",
       "17                    Paid JAWED       2000      18000         NaN  \n",
       "18                  Deposit ADIB      13400       6600         NaN  \n",
       "19          Hanif garage/pick up       2500      -2500         NaN  \n",
       "20                        Garage       1780      14220         NaN  \n",
       "21                     Paid Utam      14000       2000         NaN  \n",
       "22           Interglobal/suplier       2000       5500         NaN  \n",
       "23                  Deposit ADIB       7500       9000         NaN  \n",
       "24                  Deposit ADIB       9000      18500         NaN  \n",
       "25     Al saray building/suplier      10000      13500         NaN  \n",
       "26   shine sus co/sub contracter       1500       3500         NaN  \n",
       "27            Delta /gum machine       6200      -6200         NaN  \n",
       "28                  Deposit ADIB       3500      -3500         NaN  \n",
       "29                     Paid Utam       2300      13700         NaN  \n",
       "..                           ...        ...        ...         ...  \n",
       "75                     UTAM PAID        500       -500         NaN  \n",
       "76                           NaN        NaN          0         NaN  \n",
       "77                     UTAM PAID        500          0         NaN  \n",
       "78                     UTAM PAID      10000        500         NaN  \n",
       "79              BMW Expnce kabir       1000      11000         NaN  \n",
       "80                     UTAM PAID       1000       1000         NaN  \n",
       "81                     UTAM PAID        800       9200         NaN  \n",
       "82                  Deposit ADIB       9200        800         NaN  \n",
       "83                           NaN        NaN          0         NaN  \n",
       "84               rom rent/LABOUR       3000        500         NaN  \n",
       "85                Javed account         500       3000         NaN  \n",
       "86                Javed account         130       -130         NaN  \n",
       "87           Adjusted kabir acnt       3600      -3600         NaN  \n",
       "88                 javid account        500       -500         NaN  \n",
       "89               kabir personal        2000        500         NaN  \n",
       "90                     UTAM PAID        500       2000         NaN  \n",
       "91             labour wps salary      10180         20         NaN  \n",
       "92                     UTAM PAID         20      10180         NaN  \n",
       "93                   Labour rent       3000       1000         NaN  \n",
       "94                 javid account       1000       3000         NaN  \n",
       "95                     UTAM PAID       1500          0         NaN  \n",
       "96                     UTAM PAID       8500       1500         NaN  \n",
       "97                  unb for loan       7000      14000         NaN  \n",
       "98               office comision       5000       7500         NaN  \n",
       "99                 javid account        500       1300         NaN  \n",
       "100                    UTAM PAID       1800          0         NaN  \n",
       "101              rom rent/LABOUR       6000      25736         NaN  \n",
       "102                   WPS SALARY      14855      16881         NaN  \n",
       "103              KABEER PERSONAL       5000      -5000         NaN  \n",
       "104                 UTAM ACCOUNT       5881      -5881         NaN  \n",
       "\n",
       "[105 rows x 7 columns]>"
      ]
     },
     "execution_count": 53,
     "metadata": {},
     "output_type": "execute_result"
    }
   ],
   "source": [
    "df1.head"
   ]
  },
  {
   "cell_type": "markdown",
   "metadata": {},
   "source": [
    "Dropping unwanted rows/cols"
   ]
  },
  {
   "cell_type": "code",
   "execution_count": 54,
   "metadata": {},
   "outputs": [],
   "source": [
    "df1.drop(df1.columns[[6]],inplace=True, axis=1)"
   ]
  },
  {
   "cell_type": "code",
   "execution_count": 55,
   "metadata": {},
   "outputs": [],
   "source": [
    "df1 = df1[1:]"
   ]
  },
  {
   "cell_type": "code",
   "execution_count": 56,
   "metadata": {},
   "outputs": [
    {
     "data": {
      "text/plain": [
       "Unnamed: 0                     NaN\n",
       "kaber                  Description\n",
       "Unnamed: 2           Received cash\n",
       "PETTY CASH RECORD      description\n",
       "Unnamed: 4               Paid cash\n",
       "Unnamed: 5                 Balance\n",
       "Name: 1, dtype: object"
      ]
     },
     "execution_count": 56,
     "metadata": {},
     "output_type": "execute_result"
    }
   ],
   "source": [
    "df1.iloc[0]"
   ]
  },
  {
   "cell_type": "code",
   "execution_count": 57,
   "metadata": {},
   "outputs": [],
   "source": [
    "df1.columns = df1.iloc[0]\n",
    "df1 = df1[1:]"
   ]
  },
  {
   "cell_type": "code",
   "execution_count": 59,
   "metadata": {},
   "outputs": [
    {
     "ename": "TypeError",
     "evalue": "Index does not support mutable operations",
     "output_type": "error",
     "traceback": [
      "\u001b[0;31m---------------------------------------------------------------------------\u001b[0m",
      "\u001b[0;31mTypeError\u001b[0m                                 Traceback (most recent call last)",
      "\u001b[0;32m<ipython-input-59-780e79ad7283>\u001b[0m in \u001b[0;36m<module>\u001b[0;34m()\u001b[0m\n\u001b[0;32m----> 1\u001b[0;31m \u001b[0mdf1\u001b[0m\u001b[0;34m.\u001b[0m\u001b[0mcolumns\u001b[0m\u001b[0;34m[\u001b[0m\u001b[0;36m1\u001b[0m\u001b[0;34m]\u001b[0m \u001b[0;34m=\u001b[0m \u001b[0;34m[\u001b[0m\u001b[0;34m'date'\u001b[0m\u001b[0;34m]\u001b[0m\u001b[0;34m\u001b[0m\u001b[0m\n\u001b[0m\u001b[1;32m      2\u001b[0m \u001b[0mdf1\u001b[0m\u001b[0;34m\u001b[0m\u001b[0m\n",
      "\u001b[0;32m~/anaconda3/envs/py3.6/lib/python3.6/site-packages/pandas/core/indexes/base.py\u001b[0m in \u001b[0;36m__setitem__\u001b[0;34m(self, key, value)\u001b[0m\n\u001b[1;32m   1722\u001b[0m \u001b[0;34m\u001b[0m\u001b[0m\n\u001b[1;32m   1723\u001b[0m     \u001b[0;32mdef\u001b[0m \u001b[0m__setitem__\u001b[0m\u001b[0;34m(\u001b[0m\u001b[0mself\u001b[0m\u001b[0;34m,\u001b[0m \u001b[0mkey\u001b[0m\u001b[0;34m,\u001b[0m \u001b[0mvalue\u001b[0m\u001b[0;34m)\u001b[0m\u001b[0;34m:\u001b[0m\u001b[0;34m\u001b[0m\u001b[0m\n\u001b[0;32m-> 1724\u001b[0;31m         \u001b[0;32mraise\u001b[0m \u001b[0mTypeError\u001b[0m\u001b[0;34m(\u001b[0m\u001b[0;34m\"Index does not support mutable operations\"\u001b[0m\u001b[0;34m)\u001b[0m\u001b[0;34m\u001b[0m\u001b[0m\n\u001b[0m\u001b[1;32m   1725\u001b[0m \u001b[0;34m\u001b[0m\u001b[0m\n\u001b[1;32m   1726\u001b[0m     \u001b[0;32mdef\u001b[0m \u001b[0m__getitem__\u001b[0m\u001b[0;34m(\u001b[0m\u001b[0mself\u001b[0m\u001b[0;34m,\u001b[0m \u001b[0mkey\u001b[0m\u001b[0;34m)\u001b[0m\u001b[0;34m:\u001b[0m\u001b[0;34m\u001b[0m\u001b[0m\n",
      "\u001b[0;31mTypeError\u001b[0m: Index does not support mutable operations"
     ]
    }
   ],
   "source": [
    "df1.columns[1] = ['date']\n",
    "df1"
   ]
  },
  {
   "cell_type": "code",
   "execution_count": 68,
   "metadata": {},
   "outputs": [
    {
     "ename": "TypeError",
     "evalue": "Index does not support mutable operations",
     "output_type": "error",
     "traceback": [
      "\u001b[0;31m---------------------------------------------------------------------------\u001b[0m",
      "\u001b[0;31mTypeError\u001b[0m                                 Traceback (most recent call last)",
      "\u001b[0;32m<ipython-input-68-87cff41d014f>\u001b[0m in \u001b[0;36m<module>\u001b[0;34m()\u001b[0m\n\u001b[1;32m      1\u001b[0m \u001b[0mx\u001b[0m \u001b[0;34m=\u001b[0m \u001b[0;34m'date'\u001b[0m\u001b[0;34m\u001b[0m\u001b[0m\n\u001b[0;32m----> 2\u001b[0;31m \u001b[0mdf1\u001b[0m\u001b[0;34m.\u001b[0m\u001b[0mcolumns\u001b[0m\u001b[0;34m[\u001b[0m\u001b[0;36m0\u001b[0m\u001b[0;34m]\u001b[0m \u001b[0;34m=\u001b[0m\u001b[0mx\u001b[0m\u001b[0;34m\u001b[0m\u001b[0m\n\u001b[0m",
      "\u001b[0;32m~/anaconda3/envs/py3.6/lib/python3.6/site-packages/pandas/core/indexes/base.py\u001b[0m in \u001b[0;36m__setitem__\u001b[0;34m(self, key, value)\u001b[0m\n\u001b[1;32m   1722\u001b[0m \u001b[0;34m\u001b[0m\u001b[0m\n\u001b[1;32m   1723\u001b[0m     \u001b[0;32mdef\u001b[0m \u001b[0m__setitem__\u001b[0m\u001b[0;34m(\u001b[0m\u001b[0mself\u001b[0m\u001b[0;34m,\u001b[0m \u001b[0mkey\u001b[0m\u001b[0;34m,\u001b[0m \u001b[0mvalue\u001b[0m\u001b[0;34m)\u001b[0m\u001b[0;34m:\u001b[0m\u001b[0;34m\u001b[0m\u001b[0m\n\u001b[0;32m-> 1724\u001b[0;31m         \u001b[0;32mraise\u001b[0m \u001b[0mTypeError\u001b[0m\u001b[0;34m(\u001b[0m\u001b[0;34m\"Index does not support mutable operations\"\u001b[0m\u001b[0;34m)\u001b[0m\u001b[0;34m\u001b[0m\u001b[0m\n\u001b[0m\u001b[1;32m   1725\u001b[0m \u001b[0;34m\u001b[0m\u001b[0m\n\u001b[1;32m   1726\u001b[0m     \u001b[0;32mdef\u001b[0m \u001b[0m__getitem__\u001b[0m\u001b[0;34m(\u001b[0m\u001b[0mself\u001b[0m\u001b[0;34m,\u001b[0m \u001b[0mkey\u001b[0m\u001b[0;34m)\u001b[0m\u001b[0;34m:\u001b[0m\u001b[0;34m\u001b[0m\u001b[0m\n",
      "\u001b[0;31mTypeError\u001b[0m: Index does not support mutable operations"
     ]
    }
   ],
   "source": [
    "df1.columns[0] = ['date']"
   ]
  },
  {
   "cell_type": "code",
   "execution_count": 65,
   "metadata": {},
   "outputs": [
    {
     "data": {
      "text/plain": [
       "'date'"
      ]
     },
     "execution_count": 65,
     "metadata": {},
     "output_type": "execute_result"
    }
   ],
   "source": []
  },
  {
   "cell_type": "code",
   "execution_count": null,
   "metadata": {},
   "outputs": [],
   "source": []
  }
 ],
 "metadata": {
  "kernelspec": {
   "display_name": "Python [conda env:py3.6]",
   "language": "python",
   "name": "conda-env-py3.6-py"
  },
  "language_info": {
   "codemirror_mode": {
    "name": "ipython",
    "version": 3
   },
   "file_extension": ".py",
   "mimetype": "text/x-python",
   "name": "python",
   "nbconvert_exporter": "python",
   "pygments_lexer": "ipython3",
   "version": "3.6.4"
  }
 },
 "nbformat": 4,
 "nbformat_minor": 2
}
